{
 "cells": [
  {
   "cell_type": "markdown",
   "metadata": {},
   "source": [
    "Base de datos: gestion_medicamentos\n",
    "\n",
    "Tabla: medicamentos\n",
    "\n",
    "Campos de la tabla:\n",
    "\n",
    "id: INT AUTO_INCREMENT (clave primaria)\n",
    "nombre: VARCHAR(255)\n",
    "dosis: VARCHAR(255)\n",
    "frecuencia: VARCHAR(255)\n",
    "fecha_vencimiento: DATE\n",
    "stock: INT\n",
    "Usuario de MySQL: admin_farmacia\n",
    "Contraseña de MySQL: contraseña_segura_123\n",
    "Host: localhost (o el host donde esté alojada la base de datos)\n",
    "\n",
    "Conexión a la Base de Datos:\n",
    "\n",
    "Usuario: admin_farmacia\n",
    "Contraseña: contraseña_segura_123\n",
    "Base de datos: gestion_medicamentos\n",
    "Host: localhost "
   ]
  }
 ],
 "metadata": {
  "language_info": {
   "name": "python"
  }
 },
 "nbformat": 4,
 "nbformat_minor": 2
}
