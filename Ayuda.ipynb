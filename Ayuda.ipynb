{
 "cells": [
  {
   "cell_type": "markdown",
   "metadata": {},
   "source": [
    "Base de datos: gestion_medicamentos\n",
    "\n",
    "Tabla: medicamentos\n",
    "\n",
    "Campos de la tabla:\n",
    "\n",
    "id: INT AUTO_INCREMENT (clave primaria)\n",
    "nombre: VARCHAR(255)\n",
    "dosis: VARCHAR(255)\n",
    "frecuencia: VARCHAR(255)\n",
    "fecha_vencimiento: DATE\n",
    "stock: INT\n",
    "fecha_ingreso: DATE (NULL)\n",
    "\n",
    "Tabla: alertas\n",
    "\n",
    "Campos de la tabla:\n",
    "id: INT AUTO_INCREMENT (clave primaria)\n",
    "tipo: VARCHAR(255)\n",
    "mensaje: TEXT\n",
    "estado BOOLEAN DEFAULT FALSE\n",
    "\n",
    "Conexión a la Base de Datos:\n",
    "\n",
    "Usuario: admin_farmacia\n",
    "Contraseña: contraseña_segura_123\n",
    "Base de datos: gestion_medicamentos\n",
    "Host: localhost "
   ]
  }
 ],
 "metadata": {
  "language_info": {
   "name": "python"
  }
 },
 "nbformat": 4,
 "nbformat_minor": 2
}
